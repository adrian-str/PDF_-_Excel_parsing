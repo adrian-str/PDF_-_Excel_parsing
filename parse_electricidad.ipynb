{
 "cells": [
  {
   "cell_type": "code",
   "execution_count": 7,
   "id": "three-cancer",
   "metadata": {},
   "outputs": [
    {
     "data": {
      "text/plain": [
       "['Documentos_1614618600900.xls',\n",
       " 'Documentos_1614618490241.xls',\n",
       " 'Documentos_1614618538446.xls',\n",
       " 'Documentos_1614618625870.xls',\n",
       " 'Documentos_1614618611749.xls',\n",
       " 'Documentos_1614618551721.xls',\n",
       " 'Documentos_1614618564164.xls',\n",
       " 'Documentos_1614618666379.xls',\n",
       " 'Documentos_1614618526494.xls',\n",
       " 'Documentos_1614618640304.xls',\n",
       " 'Documentos_1614618514593.xls',\n",
       " 'Documentos_1614618497350.xls',\n",
       " 'Documentos_1614618652457.xls',\n",
       " 'Documentos_1614618482986.xls',\n",
       " 'Documentos_1614618681463.xls',\n",
       " 'Documentos_1614618703356.xls',\n",
       " 'Documentos_1614618693066.xls',\n",
       " 'Documentos_1614618576378.xls',\n",
       " 'Documentos_1614618712702.xls',\n",
       " 'Documentos_1614618587165.xls']"
      ]
     },
     "execution_count": 7,
     "metadata": {},
     "output_type": "execute_result"
    }
   ],
   "source": [
    "%config Completer.use_jedi=False\n",
    "import pandas as pd\n",
    "import os\n",
    "os.chdir('horario/') #change working directory\n",
    "os.listdir() # List all files and directories in current directory"
   ]
  },
  {
   "cell_type": "code",
   "execution_count": 8,
   "id": "burning-muslim",
   "metadata": {},
   "outputs": [],
   "source": [
    "lista_ficheros=os.listdir()\n",
    "electricidad=lista_ficheros[0]\n"
   ]
  },
  {
   "cell_type": "code",
   "execution_count": 35,
   "id": "faced-cooking",
   "metadata": {},
   "outputs": [
    {
     "data": {
      "text/html": [
       "<div>\n",
       "<style scoped>\n",
       "    .dataframe tbody tr th:only-of-type {\n",
       "        vertical-align: middle;\n",
       "    }\n",
       "\n",
       "    .dataframe tbody tr th {\n",
       "        vertical-align: top;\n",
       "    }\n",
       "\n",
       "    .dataframe thead th {\n",
       "        text-align: right;\n",
       "    }\n",
       "</style>\n",
       "<table border=\"1\" class=\"dataframe\">\n",
       "  <thead>\n",
       "    <tr style=\"text-align: right;\">\n",
       "      <th></th>\n",
       "      <th>fecha</th>\n",
       "      <th>ES0021000013610554KW (KWh)</th>\n",
       "      <th>ES0021000013969212CK (KWh)</th>\n",
       "      <th>ES0021000018100163CB (KWh)</th>\n",
       "      <th>ES0021000004109835AP (KWh)</th>\n",
       "      <th>ES0021000013969204CJ (KWh)</th>\n",
       "      <th>ES0021000013201439NB (KWh)</th>\n",
       "      <th>ES0021000012513939KG (KWh)</th>\n",
       "      <th>ES0021000013191958ZY (KWh)</th>\n",
       "    </tr>\n",
       "  </thead>\n",
       "  <tbody>\n",
       "    <tr>\n",
       "      <th>0</th>\n",
       "      <td>2020-01-05 01:00:00</td>\n",
       "      <td>44,000</td>\n",
       "      <td>205,000</td>\n",
       "      <td>80,000</td>\n",
       "      <td>93,000</td>\n",
       "      <td>111,000</td>\n",
       "      <td>7,360</td>\n",
       "      <td>21,000</td>\n",
       "      <td>0,000</td>\n",
       "    </tr>\n",
       "    <tr>\n",
       "      <th>1</th>\n",
       "      <td>2020-01-05 02:00:00</td>\n",
       "      <td>46,000</td>\n",
       "      <td>205,000</td>\n",
       "      <td>79,000</td>\n",
       "      <td>93,000</td>\n",
       "      <td>112,000</td>\n",
       "      <td>6,650</td>\n",
       "      <td>21,000</td>\n",
       "      <td>0,000</td>\n",
       "    </tr>\n",
       "    <tr>\n",
       "      <th>2</th>\n",
       "      <td>2020-01-05 03:00:00</td>\n",
       "      <td>46,000</td>\n",
       "      <td>209,000</td>\n",
       "      <td>80,000</td>\n",
       "      <td>92,000</td>\n",
       "      <td>113,000</td>\n",
       "      <td>6,570</td>\n",
       "      <td>20,000</td>\n",
       "      <td>0,000</td>\n",
       "    </tr>\n",
       "    <tr>\n",
       "      <th>3</th>\n",
       "      <td>2020-01-05 04:00:00</td>\n",
       "      <td>46,000</td>\n",
       "      <td>207,000</td>\n",
       "      <td>80,000</td>\n",
       "      <td>98,000</td>\n",
       "      <td>113,000</td>\n",
       "      <td>6,530</td>\n",
       "      <td>21,000</td>\n",
       "      <td>0,000</td>\n",
       "    </tr>\n",
       "    <tr>\n",
       "      <th>4</th>\n",
       "      <td>2020-01-05 05:00:00</td>\n",
       "      <td>44,000</td>\n",
       "      <td>213,000</td>\n",
       "      <td>80,000</td>\n",
       "      <td>120,000</td>\n",
       "      <td>121,000</td>\n",
       "      <td>6,510</td>\n",
       "      <td>21,000</td>\n",
       "      <td>0,000</td>\n",
       "    </tr>\n",
       "    <tr>\n",
       "      <th>...</th>\n",
       "      <td>...</td>\n",
       "      <td>...</td>\n",
       "      <td>...</td>\n",
       "      <td>...</td>\n",
       "      <td>...</td>\n",
       "      <td>...</td>\n",
       "      <td>...</td>\n",
       "      <td>...</td>\n",
       "      <td>...</td>\n",
       "    </tr>\n",
       "    <tr>\n",
       "      <th>739</th>\n",
       "      <td>2020-05-31 20:00:00</td>\n",
       "      <td>69,000</td>\n",
       "      <td>342,000</td>\n",
       "      <td>73,000</td>\n",
       "      <td>86,000</td>\n",
       "      <td>110,000</td>\n",
       "      <td>7,290</td>\n",
       "      <td>19,000</td>\n",
       "      <td>0,000</td>\n",
       "    </tr>\n",
       "    <tr>\n",
       "      <th>740</th>\n",
       "      <td>2020-05-31 21:00:00</td>\n",
       "      <td>66,000</td>\n",
       "      <td>324,000</td>\n",
       "      <td>75,000</td>\n",
       "      <td>85,000</td>\n",
       "      <td>107,000</td>\n",
       "      <td>6,700</td>\n",
       "      <td>20,000</td>\n",
       "      <td>0,000</td>\n",
       "    </tr>\n",
       "    <tr>\n",
       "      <th>741</th>\n",
       "      <td>2020-05-31 22:00:00</td>\n",
       "      <td>65,000</td>\n",
       "      <td>317,000</td>\n",
       "      <td>77,000</td>\n",
       "      <td>90,000</td>\n",
       "      <td>108,000</td>\n",
       "      <td>6,010</td>\n",
       "      <td>19,000</td>\n",
       "      <td>0,000</td>\n",
       "    </tr>\n",
       "    <tr>\n",
       "      <th>742</th>\n",
       "      <td>2020-05-31 23:00:00</td>\n",
       "      <td>68,000</td>\n",
       "      <td>309,000</td>\n",
       "      <td>76,000</td>\n",
       "      <td>95,000</td>\n",
       "      <td>108,000</td>\n",
       "      <td>7,490</td>\n",
       "      <td>20,000</td>\n",
       "      <td>0,000</td>\n",
       "    </tr>\n",
       "    <tr>\n",
       "      <th>743</th>\n",
       "      <td>2020-01-06 00:00:00</td>\n",
       "      <td>65,000</td>\n",
       "      <td>299,000</td>\n",
       "      <td>75,000</td>\n",
       "      <td>95,000</td>\n",
       "      <td>108,000</td>\n",
       "      <td>6,810</td>\n",
       "      <td>20,000</td>\n",
       "      <td>0,000</td>\n",
       "    </tr>\n",
       "  </tbody>\n",
       "</table>\n",
       "<p>744 rows × 9 columns</p>\n",
       "</div>"
      ],
      "text/plain": [
       "                  fecha ES0021000013610554KW (KWh) ES0021000013969212CK (KWh)  \\\n",
       "0   2020-01-05 01:00:00                     44,000                    205,000   \n",
       "1   2020-01-05 02:00:00                     46,000                    205,000   \n",
       "2   2020-01-05 03:00:00                     46,000                    209,000   \n",
       "3   2020-01-05 04:00:00                     46,000                    207,000   \n",
       "4   2020-01-05 05:00:00                     44,000                    213,000   \n",
       "..                  ...                        ...                        ...   \n",
       "739 2020-05-31 20:00:00                     69,000                    342,000   \n",
       "740 2020-05-31 21:00:00                     66,000                    324,000   \n",
       "741 2020-05-31 22:00:00                     65,000                    317,000   \n",
       "742 2020-05-31 23:00:00                     68,000                    309,000   \n",
       "743 2020-01-06 00:00:00                     65,000                    299,000   \n",
       "\n",
       "    ES0021000018100163CB (KWh) ES0021000004109835AP (KWh)  \\\n",
       "0                       80,000                     93,000   \n",
       "1                       79,000                     93,000   \n",
       "2                       80,000                     92,000   \n",
       "3                       80,000                     98,000   \n",
       "4                       80,000                    120,000   \n",
       "..                         ...                        ...   \n",
       "739                     73,000                     86,000   \n",
       "740                     75,000                     85,000   \n",
       "741                     77,000                     90,000   \n",
       "742                     76,000                     95,000   \n",
       "743                     75,000                     95,000   \n",
       "\n",
       "    ES0021000013969204CJ (KWh) ES0021000013201439NB (KWh)  \\\n",
       "0                      111,000                      7,360   \n",
       "1                      112,000                      6,650   \n",
       "2                      113,000                      6,570   \n",
       "3                      113,000                      6,530   \n",
       "4                      121,000                      6,510   \n",
       "..                         ...                        ...   \n",
       "739                    110,000                      7,290   \n",
       "740                    107,000                      6,700   \n",
       "741                    108,000                      6,010   \n",
       "742                    108,000                      7,490   \n",
       "743                    108,000                      6,810   \n",
       "\n",
       "    ES0021000012513939KG (KWh) ES0021000013191958ZY (KWh)  \n",
       "0                       21,000                      0,000  \n",
       "1                       21,000                      0,000  \n",
       "2                       20,000                      0,000  \n",
       "3                       21,000                      0,000  \n",
       "4                       21,000                      0,000  \n",
       "..                         ...                        ...  \n",
       "739                     19,000                      0,000  \n",
       "740                     20,000                      0,000  \n",
       "741                     19,000                      0,000  \n",
       "742                     20,000                      0,000  \n",
       "743                     20,000                      0,000  \n",
       "\n",
       "[744 rows x 9 columns]"
      ]
     },
     "execution_count": 35,
     "metadata": {},
     "output_type": "execute_result"
    }
   ],
   "source": [
    "f1_elect=pd.read_excel(electricidad,parse_dates=['fecha'])\n",
    "f1_elect"
   ]
  },
  {
   "cell_type": "code",
   "execution_count": 23,
   "id": "defensive-layer",
   "metadata": {},
   "outputs": [],
   "source": [
    "fecha,hora=f1_elect[\"fecha\"].astype(str).str.split(\" \",expand=True)[0],f1_elect[\"fecha\"].astype(str).str.split(\" \",expand=True)[1]"
   ]
  },
  {
   "cell_type": "code",
   "execution_count": 24,
   "id": "rocky-remove",
   "metadata": {},
   "outputs": [
    {
     "data": {
      "text/plain": [
       "0       1/5/2020\n",
       "1       1/5/2020\n",
       "2       1/5/2020\n",
       "3       1/5/2020\n",
       "4       1/5/2020\n",
       "         ...    \n",
       "739    31/5/2020\n",
       "740    31/5/2020\n",
       "741    31/5/2020\n",
       "742    31/5/2020\n",
       "743     1/6/2020\n",
       "Name: 0, Length: 744, dtype: object"
      ]
     },
     "execution_count": 24,
     "metadata": {},
     "output_type": "execute_result"
    }
   ],
   "source": [
    "fecha"
   ]
  },
  {
   "cell_type": "code",
   "execution_count": 25,
   "id": "integrated-finish",
   "metadata": {},
   "outputs": [
    {
     "data": {
      "text/plain": [
       "0       1h\n",
       "1       2h\n",
       "2       3h\n",
       "3       4h\n",
       "4       5h\n",
       "      ... \n",
       "739    20h\n",
       "740    21h\n",
       "741    22h\n",
       "742    23h\n",
       "743     0h\n",
       "Name: 1, Length: 744, dtype: object"
      ]
     },
     "execution_count": 25,
     "metadata": {},
     "output_type": "execute_result"
    }
   ],
   "source": [
    "hora"
   ]
  },
  {
   "cell_type": "code",
   "execution_count": 26,
   "id": "inclusive-search",
   "metadata": {},
   "outputs": [],
   "source": [
    "f1_elect['fecha']=fecha\n",
    "f1_elect['hora']=hora"
   ]
  },
  {
   "cell_type": "code",
   "execution_count": 33,
   "id": "clean-attraction",
   "metadata": {},
   "outputs": [
    {
     "data": {
      "text/plain": [
       "'1/6/2020'"
      ]
     },
     "execution_count": 33,
     "metadata": {},
     "output_type": "execute_result"
    }
   ],
   "source": [
    "f1_elect.iloc[-1,0]"
   ]
  },
  {
   "cell_type": "code",
   "execution_count": null,
   "id": "existing-jesus",
   "metadata": {},
   "outputs": [],
   "source": []
  }
 ],
 "metadata": {
  "kernelspec": {
   "display_name": "rdenv",
   "language": "python",
   "name": "rdenv"
  },
  "language_info": {
   "codemirror_mode": {
    "name": "ipython",
    "version": 3
   },
   "file_extension": ".py",
   "mimetype": "text/x-python",
   "name": "python",
   "nbconvert_exporter": "python",
   "pygments_lexer": "ipython3",
   "version": "3.7.9"
  }
 },
 "nbformat": 4,
 "nbformat_minor": 5
}
